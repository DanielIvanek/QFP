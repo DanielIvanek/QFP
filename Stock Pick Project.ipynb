{
 "cells": [
  {
   "metadata": {},
   "cell_type": "markdown",
   "source": "# Imported packages for use in Project",
   "id": "90162ce6a152f94b"
  },
  {
   "cell_type": "code",
   "id": "initial_id",
   "metadata": {
    "collapsed": true,
    "ExecuteTime": {
     "end_time": "2024-11-24T12:27:21.232899Z",
     "start_time": "2024-11-24T12:27:21.228968Z"
    }
   },
   "source": [
    "import yfinance as yf\n",
    "import pandas as pd\n",
    "import numpy as np"
   ],
   "outputs": [],
   "execution_count": 6
  },
  {
   "metadata": {
    "ExecuteTime": {
     "end_time": "2024-11-24T12:57:21.370631Z",
     "start_time": "2024-11-24T12:57:16.852360Z"
    }
   },
   "cell_type": "code",
   "source": [
    "# Funkce pro získání dat\n",
    "# Aktualizovaný seznam tickerů podle nového seznamu\n",
    "tickers = [\n",
    "    'BABA', 'CVS', 'VOW3.DE', '2318.HK', 'BAYN.DE', 'WBD',\n",
    "    'CEZ.PR', 'EEFT', 'SOFI', 'DIDY', 'BIDU', 'RYAAY',\n",
    "    'P911.DE', 'HAL', 'PFE', 'EVO.ST', 'TUI1.DE', 'APPL'\n",
    "]\n",
    "\n",
    "def calculate_intrinsic_values_with_fcf(tickers):\n",
    "    data = []\n",
    "    for ticker in tickers:\n",
    "        try:\n",
    "            stock = yf.Ticker(ticker)\n",
    "            stock_info = stock.info\n",
    "\n",
    "            # Získání FCF a růstu\n",
    "            fcf = stock_info.get(\"freeCashflow\", None)\n",
    "            growth_rate = stock_info.get(\"earningsGrowth\", 0.03)  # Použít 3 %, pokud není dostupné\n",
    "\n",
    "            # Oprava FCF: Ignorovat záporné nebo nulové hodnoty\n",
    "            if fcf is None or fcf <= 0:\n",
    "                print(f\"{ticker}: FCF není platné (FCF = {fcf}), přeskočeno.\")\n",
    "                continue\n",
    "\n",
    "            # Omezit FCF na realistickou hodnotu\n",
    "            if fcf > 10_000_000_000:  # Například 10 miliard\n",
    "                print(f\"{ticker}: FCF příliš vysoké ({fcf}), omezeno na 10 miliard.\")\n",
    "                fcf = 10_000_000_000\n",
    "\n",
    "            # Oprava růstu: Použít minimální konzervativní růst\n",
    "            if growth_rate is None or growth_rate < 0:\n",
    "                print(f\"{ticker}: Růst není platný (Growth Rate = {growth_rate}), nastavena hodnota 3 %.\")\n",
    "                growth_rate = 0.03\n",
    "\n",
    "            # Diskontní míra a terminální růst\n",
    "            discount_rate = 0.10  # 10 %\n",
    "            terminal_growth = 0.02  # 2 %\n",
    "\n",
    "            # Výpočet vnitřní hodnoty\n",
    "            intrinsic_val = intrinsic_value(fcf, growth_rate, discount_rate, terminal_growth)\n",
    "\n",
    "            # Aktuální cena akcie\n",
    "            current_price = stock.history(period=\"1d\")['Close'].iloc[-1]\n",
    "\n",
    "            # Uložit výstup\n",
    "            data.append({\n",
    "                \"Ticker\": ticker,\n",
    "                \"Current Price\": current_price,\n",
    "                \"Intrinsic Value\": intrinsic_val,\n",
    "                \"Undervalued\": current_price < intrinsic_val\n",
    "            })\n",
    "        except Exception as e:\n",
    "            print(f\"Chyba u {ticker}: {e}\")\n",
    "            continue\n",
    "    return pd.DataFrame(data)\n",
    "\n",
    "# Výpočet vnitřních hodnot\n",
    "intrinsic_data = calculate_intrinsic_values_with_fcf(tickers)\n",
    "\n",
    "# Zobrazení výsledků\n",
    "print(\"Výsledky vnitřních hodnot:\")\n",
    "print(intrinsic_data)\n",
    "\n",
    "# Uložení výsledků do CSV\n",
    "intrinsic_data.to_csv(\"intrinsic_values_with_fcf.csv\", index=False)\n",
    "\n"
   ],
   "id": "63d5e67695e42002",
   "outputs": [
    {
     "name": "stdout",
     "output_type": "stream",
     "text": [
      "BABA: FCF příliš vysoké (142874492928), omezeno na 10 miliard.\n",
      "BABA: Růst není platný (Growth Rate = -0.257), nastavena hodnota 3 %.\n",
      "CVS: Růst není platný (Growth Rate = -0.961), nastavena hodnota 3 %.\n",
      "VOW3.DE: FCF příliš vysoké (23552440320), omezeno na 10 miliard.\n",
      "VOW3.DE: Růst není platný (Growth Rate = -0.688), nastavena hodnota 3 %.\n",
      "2318.HK: FCF není platné (FCF = -489514500096), přeskočeno.\n",
      "WBD: FCF příliš vysoké (20279250944), omezeno na 10 miliard.\n",
      "CEZ.PR: FCF příliš vysoké (93132750848), omezeno na 10 miliard.\n",
      "CEZ.PR: Růst není platný (Growth Rate = -0.686), nastavena hodnota 3 %.\n",
      "SOFI: FCF není platné (FCF = None), přeskočeno.\n"
     ]
    },
    {
     "name": "stderr",
     "output_type": "stream",
     "text": [
      "404 Client Error: Not Found for url: https://query2.finance.yahoo.com/v10/finance/quoteSummary/DIDY?modules=financialData%2CquoteType%2CdefaultKeyStatistics%2CassetProfile%2CsummaryDetail&corsDomain=finance.yahoo.com&formatted=false&symbol=DIDY&crumb=EO99hzymszV\n"
     ]
    },
    {
     "name": "stdout",
     "output_type": "stream",
     "text": [
      "DIDY: FCF není platné (FCF = None), přeskočeno.\n",
      "BIDU: FCF příliš vysoké (27584374784), omezeno na 10 miliard.\n",
      "RYAAY: Růst není platný (Growth Rate = -0.03), nastavena hodnota 3 %.\n",
      "P911.DE: Růst není platný (Growth Rate = -0.479), nastavena hodnota 3 %.\n",
      "HAL: Růst není platný (Growth Rate = -0.18), nastavena hodnota 3 %.\n",
      "PFE: FCF příliš vysoké (11420749824), omezeno na 10 miliard.\n",
      "APPL: FCF není platné (FCF = None), přeskočeno.\n",
      "Výsledky vnitřních hodnot:\n",
      "     Ticker  Current Price  Intrinsic Value  Undervalued\n",
      "0      BABA      83.129997     1.330036e+11         True\n",
      "1       CVS      58.009998     2.603711e+10         True\n",
      "2   VOW3.DE      81.800003     1.330036e+11         True\n",
      "3   BAYN.DE      19.802000     4.429019e+10         True\n",
      "4       WBD      10.110000     1.330036e+11         True\n",
      "5    CEZ.PR     961.500000     1.330036e+11         True\n",
      "6      EEFT     105.510002     3.670758e+10         True\n",
      "7      BIDU      80.330002     1.519979e+11         True\n",
      "8     RYAAY      42.980000     1.688680e+10         True\n",
      "9   P911.DE      57.680000     7.975393e+10         True\n",
      "10      HAL      31.940001     2.454415e+10         True\n",
      "11      PFE      25.650000     1.330036e+11         True\n",
      "12   EVO.ST     983.599976     2.715708e+10         True\n",
      "13  TUI1.DE       7.424000     2.543202e+10         True\n"
     ]
    }
   ],
   "execution_count": 28
  },
  {
   "metadata": {
    "ExecuteTime": {
     "end_time": "2024-11-24T12:48:50.219439Z",
     "start_time": "2024-11-24T12:48:47.344979Z"
    }
   },
   "cell_type": "code",
   "source": [
    "print(\"FCF a růst pro každou společnost:\")\n",
    "for ticker in tickers:\n",
    "    stock = yf.Ticker(ticker)\n",
    "    stock_info = stock.info\n",
    "    print(f\"{ticker}: FCF = {stock_info.get('freeCashflow')}, Growth Rate = {stock_info.get('earningsGrowth')}\")\n",
    "future_fcf = [fcf * (1 + growth_rate)**t for t in range(1, 6)]\n",
    "terminal_value = future_fcf[-1] * (1 + terminal_growth) / (discount_rate - terminal_growth)\n",
    "print(f\"Future FCF: {future_fcf}, Terminal Value: {terminal_value}\")\n"
   ],
   "id": "6bcd911b169e80ae",
   "outputs": [
    {
     "name": "stdout",
     "output_type": "stream",
     "text": [
      "FCF a růst pro každou společnost:\n",
      "BABA: FCF = 142874492928, Growth Rate = -0.257\n",
      "CVS: FCF = 1957624960, Growth Rate = -0.961\n",
      "VOW3.DE: FCF = 23552440320, Growth Rate = -0.688\n",
      "2318.HK: FCF = -489514500096, Growth Rate = 1.506\n",
      "BAYN.DE: FCF = 3329999872, Growth Rate = None\n",
      "WBD: FCF = 20279250944, Growth Rate = None\n",
      "CEZ.PR: FCF = 93132750848, Growth Rate = -0.686\n",
      "EEFT: FCF = 400375008, Growth Rate = 0.569\n",
      "SOFI: FCF = None, Growth Rate = None\n"
     ]
    },
    {
     "name": "stderr",
     "output_type": "stream",
     "text": [
      "404 Client Error: Not Found for url: https://query2.finance.yahoo.com/v10/finance/quoteSummary/DIDY?modules=financialData%2CquoteType%2CdefaultKeyStatistics%2CassetProfile%2CsummaryDetail&corsDomain=finance.yahoo.com&formatted=false&symbol=DIDY&crumb=EO99hzymszV\n"
     ]
    },
    {
     "name": "stdout",
     "output_type": "stream",
     "text": [
      "DIDY: FCF = None, Growth Rate = None\n",
      "BIDU: FCF = 27584374784, Growth Rate = 0.062\n",
      "RYAAY: FCF = 1269650048, Growth Rate = -0.03\n",
      "P911.DE: FCF = 5996375040, Growth Rate = -0.479\n",
      "HAL: FCF = 1845374976, Growth Rate = -0.18\n",
      "PFE: FCF = 11420749824, Growth Rate = None\n",
      "EVO.ST: FCF = 871645248, Growth Rate = 0.246\n",
      "TUI1.DE: FCF = 367137504, Growth Rate = 0.479\n",
      "Future FCF: [1050000.0, 1102500.0, 1157625.0000000002, 1215506.2500000002, 1276281.5625000005], Terminal Value: 18779571.562500007\n"
     ]
    }
   ],
   "execution_count": 25
  },
  {
   "metadata": {},
   "cell_type": "markdown",
   "source": "## Filtering based on Metrics\n",
   "id": "d033e9523c339623"
  },
  {
   "metadata": {
    "ExecuteTime": {
     "end_time": "2024-11-24T12:39:53.885380Z",
     "start_time": "2024-11-24T12:39:53.866247Z"
    }
   },
   "cell_type": "code",
   "source": [
    "# Normalizace hodnot\n",
    "stock_data['PEG_Score'] = 1 / (stock_data['PEG'] + 1).replace([np.inf, -np.inf], np.nan).fillna(0)  # Nižší PEG = vyšší skóre\n",
    "stock_data['ROE_Score'] = stock_data['ROE'].fillna(0)  # Vyšší ROE = lepší\n",
    "stock_data['Volatility_Score'] = stock_data['Volatility'].fillna(0)  # Vyšší volatilita = lepší pro swing\n",
    "stock_data['Debt_Score'] = 1 / (stock_data['Debt/Equity'] + 1).replace([np.inf, -np.inf], np.nan).fillna(0)  # Nižší zadlužení = lepší\n",
    "\n",
    "# Celkové skóre\n",
    "stock_data['Total_Score'] = (\n",
    "    0.4 * stock_data['PEG_Score'] +  # Váha pro PEG\n",
    "    0.3 * stock_data['ROE_Score'] +  # Váha pro ROE\n",
    "    0.2 * stock_data['Volatility_Score'] +  # Váha pro volatilitu\n",
    "    0.1 * stock_data['Debt_Score']  # Váha pro zadlužení\n",
    ")\n",
    "\n",
    "# Výběr nejlepších akcií\n",
    "top_stocks = stock_data.nlargest(5, 'Total_Score')  # Top 5 akcií\n",
    "print(\"\\nTop akcie podle skóre:\")\n",
    "print(top_stocks)\n"
   ],
   "id": "a32bb1f4a71c9620",
   "outputs": [
    {
     "name": "stdout",
     "output_type": "stream",
     "text": [
      "\n",
      "Top akcie podle skóre:\n",
      "     Ticker         P/E       P/B      ROE  EV/EBITDA  Debt/Equity  \\\n",
      "4   BAYN.DE         NaN  0.636270 -0.02727      5.526      134.104   \n",
      "5       WBD         NaN  0.706252 -0.27295      8.780      111.154   \n",
      "8      SOFI  130.000000  2.763018  0.03725        NaN       54.394   \n",
      "13      PFE   34.200000  1.574779  0.04538     11.087       73.408   \n",
      "15  TUI1.DE    4.242286  8.977025  0.72203      5.950      374.158   \n",
      "\n",
      "    Dividend Yield  EPS Growth       PEG  Volatility     Liquidity  PEG_Score  \\\n",
      "4           0.0056         NaN       NaN    0.380039  3.372206e+06        inf   \n",
      "5              NaN         NaN       NaN    0.510061  3.078138e+07        inf   \n",
      "8              NaN         NaN       NaN    0.490405  4.427764e+07        inf   \n",
      "13          0.0655         NaN       NaN    0.220339  3.533351e+07        inf   \n",
      "15             NaN       0.479  8.856546    0.351753  3.669090e+06   0.101455   \n",
      "\n",
      "    ROE_Score  Volatility_Score  Debt_Score  Total_Score  \n",
      "4    -0.02727          0.380039    0.007402          inf  \n",
      "5    -0.27295          0.510061    0.008916          inf  \n",
      "8     0.03725          0.490405    0.018052          inf  \n",
      "13    0.04538          0.220339    0.013439          inf  \n",
      "15    0.72203          0.351753    0.002666     0.327808  \n"
     ]
    }
   ],
   "execution_count": 22
  },
  {
   "metadata": {},
   "cell_type": "markdown",
   "source": "# Disconted Cash Flow",
   "id": "78c9db25cef21610"
  },
  {
   "metadata": {
    "ExecuteTime": {
     "end_time": "2024-11-24T12:43:24.990090Z",
     "start_time": "2024-11-24T12:43:24.983019Z"
    }
   },
   "cell_type": "code",
   "source": [
    "def intrinsic_value(fcf, growth_rate, discount_rate, terminal_growth, years=5):\n",
    "    # Odhad budoucích peněžních toků\n",
    "    future_fcf = [fcf * (1 + growth_rate)**t for t in range(1, years + 1)]\n",
    "\n",
    "    # Současná hodnota těchto toků\n",
    "    present_value_fcf = [fcf / (1 + discount_rate)**t for t, fcf in enumerate(future_fcf, start=1)]\n",
    "\n",
    "    # Terminal value\n",
    "    terminal_value = future_fcf[-1] * (1 + terminal_growth) / (discount_rate - terminal_growth)\n",
    "    present_terminal_value = terminal_value / (1 + discount_rate)**years\n",
    "\n",
    "    # Celková vnitřní hodnota\n",
    "    return sum(present_value_fcf) + present_terminal_value\n",
    "\n",
    "# Příklad výpočtu\n",
    "fcf = 1_000_000  # Současný volný peněžní tok (v CZK)\n",
    "growth_rate = 0.05  # Roční růst FCF\n",
    "discount_rate = 0.10  # Diskontní míra\n",
    "terminal_growth = 0.03  # Růst terminální hodnoty\n",
    "\n",
    "value = intrinsic_value(fcf, growth_rate, discount_rate, terminal_growth)\n",
    "print(f\"Vnitřní hodnota společnosti: {value:.2f} CZK\")\n"
   ],
   "id": "b70083a736946baf",
   "outputs": [
    {
     "name": "stdout",
     "output_type": "stream",
     "text": [
      "Vnitřní hodnota společnosti: 16018757.26 CZK\n"
     ]
    }
   ],
   "execution_count": 23
  }
 ],
 "metadata": {
  "kernelspec": {
   "display_name": "Python 3",
   "language": "python",
   "name": "python3"
  },
  "language_info": {
   "codemirror_mode": {
    "name": "ipython",
    "version": 2
   },
   "file_extension": ".py",
   "mimetype": "text/x-python",
   "name": "python",
   "nbconvert_exporter": "python",
   "pygments_lexer": "ipython2",
   "version": "2.7.6"
  }
 },
 "nbformat": 4,
 "nbformat_minor": 5
}
