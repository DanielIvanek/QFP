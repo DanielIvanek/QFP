{
 "cells": [
  {
   "cell_type": "code",
   "execution_count": 22,
   "id": "5af46a2f-c1cb-4e76-bf58-1541a6cffd8f",
   "metadata": {
    "pycharm": {
     "name": "#%%\n"
    },
    "tags": []
   },
   "outputs": [
    {
     "name": "stdout",
     "output_type": "stream",
     "text": [
      "Collecting yfinance==0.2.43\n",
      "  Obtaining dependency information for yfinance==0.2.43 from https://files.pythonhosted.org/packages/39/29/89572cb0c65b07a1c4e5cd53eb0a0f947f2ece53fef6ed7da90cfab7d2a9/yfinance-0.2.43-py2.py3-none-any.whl.metadata\n",
      "  Downloading yfinance-0.2.43-py2.py3-none-any.whl.metadata (11 kB)\n",
      "Requirement already satisfied: pandas>=1.3.0 in c:\\users\\kre330\\anaconda3\\envs\\skriptapython\\lib\\site-packages (from yfinance==0.2.43) (2.0.3)\n",
      "Requirement already satisfied: numpy>=1.16.5 in c:\\users\\kre330\\anaconda3\\envs\\skriptapython\\lib\\site-packages (from yfinance==0.2.43) (1.26.0)\n",
      "Requirement already satisfied: requests>=2.31 in c:\\users\\kre330\\anaconda3\\envs\\skriptapython\\lib\\site-packages (from yfinance==0.2.43) (2.31.0)\n",
      "Requirement already satisfied: multitasking>=0.0.7 in c:\\users\\kre330\\anaconda3\\envs\\skriptapython\\lib\\site-packages (from yfinance==0.2.43) (0.0.11)\n",
      "Requirement already satisfied: lxml>=4.9.1 in c:\\users\\kre330\\anaconda3\\envs\\skriptapython\\lib\\site-packages (from yfinance==0.2.43) (4.9.3)\n",
      "Requirement already satisfied: platformdirs>=2.0.0 in c:\\users\\kre330\\anaconda3\\envs\\skriptapython\\lib\\site-packages (from yfinance==0.2.43) (3.10.0)\n",
      "Requirement already satisfied: pytz>=2022.5 in c:\\users\\kre330\\anaconda3\\envs\\skriptapython\\lib\\site-packages (from yfinance==0.2.43) (2023.3.post1)\n",
      "Requirement already satisfied: frozendict>=2.3.4 in c:\\users\\kre330\\anaconda3\\envs\\skriptapython\\lib\\site-packages (from yfinance==0.2.43) (2.3.8)\n",
      "Requirement already satisfied: peewee>=3.16.2 in c:\\users\\kre330\\anaconda3\\envs\\skriptapython\\lib\\site-packages (from yfinance==0.2.43) (3.17.0)\n",
      "Requirement already satisfied: beautifulsoup4>=4.11.1 in c:\\users\\kre330\\anaconda3\\envs\\skriptapython\\lib\\site-packages (from yfinance==0.2.43) (4.12.2)\n",
      "Requirement already satisfied: html5lib>=1.1 in c:\\users\\kre330\\anaconda3\\envs\\skriptapython\\lib\\site-packages (from yfinance==0.2.43) (1.1)\n",
      "Requirement already satisfied: soupsieve>1.2 in c:\\users\\kre330\\anaconda3\\envs\\skriptapython\\lib\\site-packages (from beautifulsoup4>=4.11.1->yfinance==0.2.43) (2.5)\n",
      "Requirement already satisfied: six>=1.9 in c:\\users\\kre330\\anaconda3\\envs\\skriptapython\\lib\\site-packages (from html5lib>=1.1->yfinance==0.2.43) (1.16.0)\n",
      "Requirement already satisfied: webencodings in c:\\users\\kre330\\anaconda3\\envs\\skriptapython\\lib\\site-packages (from html5lib>=1.1->yfinance==0.2.43) (0.5.1)\n",
      "Requirement already satisfied: python-dateutil>=2.8.2 in c:\\users\\kre330\\anaconda3\\envs\\skriptapython\\lib\\site-packages (from pandas>=1.3.0->yfinance==0.2.43) (2.8.2)\n",
      "Requirement already satisfied: tzdata>=2022.1 in c:\\users\\kre330\\anaconda3\\envs\\skriptapython\\lib\\site-packages (from pandas>=1.3.0->yfinance==0.2.43) (2023.3)\n",
      "Requirement already satisfied: charset-normalizer<4,>=2 in c:\\users\\kre330\\anaconda3\\envs\\skriptapython\\lib\\site-packages (from requests>=2.31->yfinance==0.2.43) (2.0.4)\n",
      "Requirement already satisfied: idna<4,>=2.5 in c:\\users\\kre330\\anaconda3\\envs\\skriptapython\\lib\\site-packages (from requests>=2.31->yfinance==0.2.43) (3.4)\n",
      "Requirement already satisfied: urllib3<3,>=1.21.1 in c:\\users\\kre330\\anaconda3\\envs\\skriptapython\\lib\\site-packages (from requests>=2.31->yfinance==0.2.43) (1.26.16)\n",
      "Requirement already satisfied: certifi>=2017.4.17 in c:\\users\\kre330\\anaconda3\\envs\\skriptapython\\lib\\site-packages (from requests>=2.31->yfinance==0.2.43) (2023.7.22)\n",
      "Downloading yfinance-0.2.43-py2.py3-none-any.whl (84 kB)\n",
      "   ---------------------------------------- 0.0/84.6 kB ? eta -:--:--\n",
      "   ---- ----------------------------------- 10.2/84.6 kB ? eta -:--:--\n",
      "   ---------------------------------------- 84.6/84.6 kB 952.7 kB/s eta 0:00:00\n",
      "Installing collected packages: yfinance\n",
      "  Attempting uninstall: yfinance\n",
      "    Found existing installation: yfinance 0.2.38\n",
      "    Uninstalling yfinance-0.2.38:\n",
      "      Successfully uninstalled yfinance-0.2.38\n",
      "Successfully installed yfinance-0.2.43\n"
     ]
    }
   ],
   "source": [
    "!pip install yfinance==0.2.43"
   ]
  },
  {
   "cell_type": "code",
   "execution_count": 29,
   "id": "04acd91c-471f-46ba-9b3c-f019f72d7012",
   "metadata": {
    "pycharm": {
     "name": "#%%\n"
    },
    "tags": []
   },
   "outputs": [
    {
     "name": "stdout",
     "output_type": "stream",
     "text": [
      "()\n"
     ]
    },
    {
     "ename": "IndexError",
     "evalue": "tuple index out of range",
     "output_type": "error",
     "traceback": [
      "\u001b[1;31m---------------------------------------------------------------------------\u001b[0m",
      "\u001b[1;31mIndexError\u001b[0m                                Traceback (most recent call last)",
      "Cell \u001b[1;32mIn[29], line 12\u001b[0m\n\u001b[0;32m      9\u001b[0m expirations \u001b[38;5;241m=\u001b[39m ticker\u001b[38;5;241m.\u001b[39moptions\n\u001b[0;32m     10\u001b[0m \u001b[38;5;28mprint\u001b[39m(expirations)\n\u001b[1;32m---> 12\u001b[0m c \u001b[38;5;241m=\u001b[39m ticker\u001b[38;5;241m.\u001b[39moption_chain(\u001b[43mexpirations\u001b[49m\u001b[43m[\u001b[49m\u001b[38;5;241;43m5\u001b[39;49m\u001b[43m]\u001b[49m)\u001b[38;5;241m.\u001b[39mcalls \n\u001b[0;32m     13\u001b[0m \u001b[38;5;28mprint\u001b[39m(c\u001b[38;5;241m.\u001b[39mhead())\n\u001b[0;32m     15\u001b[0m fig \u001b[38;5;241m=\u001b[39m plt\u001b[38;5;241m.\u001b[39mfigure(figsize\u001b[38;5;241m=\u001b[39m(\u001b[38;5;241m10\u001b[39m, \u001b[38;5;241m6\u001b[39m))  \n",
      "\u001b[1;31mIndexError\u001b[0m: tuple index out of range"
     ]
    }
   ],
   "source": [
    "import pandas as pd\n",
    "import yfinance as yf  # we import the library and rename it to yf\n",
    "import matplotlib.pyplot as plt\n",
    " \n",
    "ticker = yf.Ticker(\"AAPL\")\n",
    "all_call=pd.DataFrame()\n",
    "all_put=pd.DataFrame()\n",
    " \n",
    "expirations = ticker.options\n",
    "print(expirations)\n",
    "\n",
    "c = ticker.option_chain(expirations[5]).calls \n",
    "print(c.head())\n",
    " \n",
    "fig = plt.figure(figsize=(10, 6))  \n",
    "plt.plot(c.strike,c.lastPrice, label=expirations[5])\n",
    " \n",
    "all_calls=pd.DataFrame()\n",
    "for expiration in expirations[6:-2]:\n",
    "    c = ticker.option_chain(expiration).calls\n",
    "    plt.plot(c.strike,c.lastPrice, label=expiration)\n",
    "    c[\"expiration\"]=expiration\n",
    "    all_calls = pd.concat([all_calls, c], axis=0)\n",
    " \n",
    "all_calls['expiration'] = pd.to_datetime(all_calls['expiration'])\n",
    "all_calls['days_to_expiry'] = (all_calls['expiration'] - pd.Timestamp.now()).dt.days\n",
    "all_calls['midPrice'] = (all_calls['ask']+all_calls['bid'])/2\n",
    " \n",
    "# Adding legend, x-axis and y-axis labels, and a figure title\n",
    "plt.legend(loc='upper right')\n",
    "plt.xlabel('Strike Price')\n",
    "plt.ylabel('Last Price')\n",
    "plt.title('Option Prices for AAPL')\n",
    "plt.grid(True, which='both', linestyle='--', linewidth=0.5)\n",
    "plt.tight_layout()\n",
    "plt.show()"
   ]
  },
  {
   "cell_type": "code",
   "execution_count": 4,
   "id": "d6f4a912-87da-4682-aff6-d83f50047119",
   "metadata": {
    "pycharm": {
     "name": "#%%\n"
    }
   },
   "outputs": [
    {
     "data": {
      "application/vnd.plotly.v1+json": {
       "config": {
        "plotlyServerURL": "https://plot.ly"
       },
       "data": [
        {
         "hovertemplate": "days_to_expiry=%{x}<br>strike=%{y}<br>lastPrice=%{z}<extra></extra>",
         "legendgroup": "",
         "marker": {
          "color": "#636efa",
          "symbol": "circle"
         },
         "mode": "markers",
         "name": "",
         "scene": "scene",
         "showlegend": false,
         "type": "scatter3d",
         "x": [
          51,
          51,
          51,
          51,
          51,
          51,
          51,
          51,
          51,
          51,
          51,
          51,
          51,
          51,
          51,
          51,
          51,
          51,
          51,
          51,
          51,
          51,
          51,
          51,
          51,
          51,
          51,
          51,
          51,
          51,
          51,
          51,
          51,
          51,
          51,
          51,
          51,
          51,
          51,
          51,
          51,
          51,
          51,
          51,
          51,
          51,
          51,
          86,
          86,
          86,
          86,
          86,
          86,
          86,
          86,
          86,
          86,
          86,
          86,
          86,
          86,
          86,
          86,
          86,
          86,
          86,
          86,
          86,
          86,
          86,
          86,
          86,
          86,
          86,
          86,
          86,
          86,
          86,
          86,
          86,
          86,
          86,
          86,
          86,
          86,
          86,
          86,
          86,
          86,
          86,
          86,
          86,
          86,
          86,
          86,
          86,
          86,
          86,
          86,
          114,
          114,
          114,
          114,
          114,
          114,
          114,
          114,
          114,
          114,
          114,
          114,
          114,
          114,
          114,
          114,
          114,
          114,
          114,
          114,
          114,
          114,
          114,
          114,
          114,
          114,
          114,
          114,
          114,
          114,
          114,
          114,
          114,
          114,
          114,
          114,
          114,
          114,
          114,
          114,
          114,
          114,
          114,
          114,
          114,
          114,
          114,
          114,
          114,
          114,
          114,
          114,
          114,
          114,
          142,
          142,
          142,
          142,
          142,
          142,
          142,
          142,
          142,
          142,
          142,
          142,
          142,
          142,
          142,
          142,
          142,
          142,
          142,
          142,
          142,
          142,
          142,
          142,
          142,
          142,
          142,
          142,
          142,
          142,
          142,
          142,
          142,
          142,
          142,
          142,
          142,
          142,
          142,
          142,
          142,
          142,
          142,
          142,
          142,
          142,
          142,
          142,
          142,
          142,
          142,
          177,
          177,
          177,
          177,
          177,
          177,
          177,
          177,
          177,
          177,
          177,
          177,
          177,
          177,
          177,
          177,
          177,
          177,
          177,
          177,
          177,
          177,
          177,
          177,
          177,
          177,
          177,
          177,
          177,
          177,
          177,
          177,
          177,
          177,
          177,
          177,
          177,
          177,
          177,
          177,
          240,
          240,
          240,
          240,
          240,
          240,
          240,
          240,
          240,
          240,
          240,
          240,
          240,
          240,
          240,
          240,
          240,
          240,
          240,
          240,
          240,
          240,
          240,
          240,
          240,
          240,
          240,
          240,
          240,
          240,
          240,
          240,
          240,
          240,
          240,
          240,
          240,
          240,
          240,
          240,
          240,
          240,
          240,
          240,
          240,
          240,
          240,
          240,
          240,
          240,
          240,
          240,
          331,
          331,
          331,
          331,
          331,
          331,
          331,
          331,
          331,
          331,
          331,
          331,
          331,
          331,
          331,
          331,
          331,
          331,
          331,
          331,
          331,
          331,
          331,
          331,
          331,
          331,
          331,
          331,
          331,
          331,
          331,
          331,
          331,
          331,
          331,
          331,
          331,
          331,
          331,
          331,
          331,
          331,
          331,
          331,
          331,
          331,
          331,
          331,
          331,
          422,
          422,
          422,
          422,
          422,
          422,
          422,
          422,
          422,
          422,
          422,
          422,
          422,
          422,
          422,
          422,
          422,
          422,
          422,
          422,
          422,
          422,
          422,
          422,
          422,
          422,
          422,
          422,
          422,
          422,
          422,
          422,
          422,
          422,
          422,
          422,
          422,
          422,
          422,
          422,
          422,
          422,
          422,
          422,
          422,
          422,
          422,
          422,
          422,
          422,
          422,
          422,
          422,
          450,
          450,
          450,
          450,
          450,
          450,
          450,
          450,
          450,
          450,
          450,
          450,
          450,
          450,
          450,
          450,
          450,
          450,
          450,
          450,
          450,
          450,
          450,
          450,
          450,
          450,
          450,
          450,
          450,
          450,
          450,
          450,
          450,
          450,
          450,
          450,
          450,
          450,
          450,
          450,
          450,
          450,
          450,
          450,
          450,
          450,
          450,
          450,
          450,
          450,
          450,
          604,
          604,
          604,
          604,
          604,
          604,
          604,
          604,
          604,
          604,
          604,
          604,
          604,
          604,
          604,
          604,
          604,
          604,
          604,
          604,
          604,
          604,
          604,
          604,
          604,
          604,
          604,
          604,
          604,
          604,
          604,
          604,
          604,
          604,
          604,
          604,
          604,
          604,
          604,
          604,
          604,
          604,
          604,
          604,
          604,
          604,
          604
         ],
         "y": [
          65,
          70,
          75,
          80,
          85,
          90,
          95,
          100,
          105,
          110,
          115,
          120,
          125,
          130,
          135,
          140,
          145,
          150,
          155,
          160,
          165,
          170,
          175,
          180,
          185,
          190,
          195,
          200,
          205,
          210,
          215,
          220,
          225,
          230,
          235,
          240,
          245,
          250,
          255,
          260,
          265,
          270,
          275,
          280,
          285,
          290,
          295,
          50,
          55,
          60,
          65,
          70,
          75,
          80,
          85,
          90,
          95,
          100,
          105,
          110,
          115,
          120,
          125,
          130,
          135,
          140,
          145,
          150,
          155,
          160,
          165,
          170,
          175,
          180,
          185,
          190,
          195,
          200,
          205,
          210,
          215,
          220,
          225,
          230,
          235,
          240,
          245,
          250,
          255,
          260,
          265,
          270,
          275,
          280,
          285,
          290,
          300,
          310,
          320,
          50,
          60,
          65,
          70,
          75,
          80,
          85,
          90,
          95,
          100,
          105,
          110,
          115,
          120,
          125,
          130,
          135,
          140,
          145,
          150,
          155,
          160,
          165,
          170,
          175,
          180,
          185,
          190,
          195,
          200,
          205,
          210,
          215,
          220,
          225,
          230,
          235,
          240,
          245,
          250,
          255,
          260,
          265,
          270,
          275,
          280,
          285,
          290,
          295,
          300,
          305,
          310,
          315,
          320,
          50,
          55,
          60,
          65,
          70,
          75,
          80,
          85,
          90,
          95,
          100,
          105,
          110,
          115,
          120,
          125,
          130,
          135,
          140,
          145,
          150,
          155,
          160,
          165,
          170,
          175,
          180,
          185,
          190,
          195,
          200,
          205,
          210,
          215,
          220,
          225,
          230,
          235,
          240,
          245,
          250,
          255,
          260,
          265,
          270,
          275,
          280,
          285,
          290,
          300,
          310,
          80,
          85,
          90,
          95,
          100,
          110,
          115,
          120,
          125,
          130,
          135,
          140,
          145,
          150,
          155,
          160,
          165,
          170,
          175,
          180,
          185,
          190,
          195,
          200,
          205,
          210,
          215,
          220,
          225,
          230,
          235,
          240,
          245,
          250,
          255,
          260,
          265,
          270,
          275,
          280,
          50,
          55,
          60,
          65,
          70,
          75,
          80,
          85,
          90,
          95,
          100,
          105,
          110,
          115,
          120,
          125,
          130,
          135,
          140,
          145,
          150,
          155,
          160,
          165,
          170,
          175,
          180,
          185,
          190,
          195,
          200,
          205,
          210,
          215,
          220,
          225,
          230,
          235,
          240,
          245,
          250,
          255,
          260,
          265,
          270,
          275,
          280,
          285,
          290,
          300,
          310,
          320,
          50,
          55,
          60,
          65,
          70,
          75,
          80,
          85,
          90,
          95,
          100,
          105,
          110,
          115,
          120,
          125,
          130,
          135,
          140,
          145,
          150,
          155,
          160,
          165,
          170,
          175,
          180,
          185,
          190,
          195,
          200,
          205,
          210,
          215,
          220,
          225,
          230,
          235,
          240,
          245,
          250,
          255,
          260,
          265,
          270,
          280,
          290,
          300,
          310,
          50,
          55,
          60,
          65,
          70,
          75,
          80,
          85,
          90,
          95,
          100,
          105,
          110,
          115,
          120,
          125,
          130,
          135,
          140,
          145,
          150,
          155,
          160,
          165,
          170,
          175,
          180,
          185,
          190,
          195,
          200,
          205,
          210,
          215,
          220,
          225,
          230,
          235,
          240,
          245,
          250,
          255,
          260,
          265,
          270,
          275,
          280,
          285,
          290,
          295,
          300,
          305,
          310,
          50,
          55,
          60,
          65,
          70,
          75,
          80,
          85,
          90,
          95,
          100,
          105,
          110,
          115,
          120,
          125,
          130,
          135,
          140,
          145,
          150,
          155,
          160,
          165,
          170,
          175,
          180,
          185,
          190,
          195,
          200,
          205,
          210,
          215,
          220,
          225,
          230,
          235,
          240,
          245,
          250,
          255,
          260,
          265,
          270,
          275,
          280,
          285,
          290,
          300,
          310,
          50,
          55,
          60,
          65,
          70,
          75,
          80,
          85,
          90,
          95,
          100,
          105,
          110,
          115,
          120,
          125,
          130,
          135,
          140,
          145,
          150,
          155,
          160,
          165,
          170,
          175,
          180,
          185,
          190,
          195,
          200,
          205,
          210,
          215,
          220,
          225,
          230,
          235,
          240,
          245,
          250,
          260,
          270,
          280,
          290,
          300,
          310
         ],
         "z": [
          108.5,
          106.55,
          100.1,
          96.65,
          88.36,
          83.1,
          79.01,
          74.34,
          68.7,
          61.7,
          59.45,
          54.25,
          49,
          44.26,
          39.35,
          34.85,
          30.25,
          25.26,
          26,
          16.75,
          12.95,
          9.4,
          6.52,
          4.05,
          2.28,
          1.24,
          0.62,
          0.31,
          0.17,
          0.1,
          0.07,
          0.04,
          0.04,
          0.02,
          0.02,
          0.01,
          0.01,
          0.01,
          0.01,
          0.02,
          0.01,
          0.01,
          0.01,
          0.01,
          0.01,
          0.01,
          0.01,
          132.25,
          115.57,
          118.82,
          107.64,
          112.98,
          98.85,
          97.6,
          89.44,
          84.2,
          83.06,
          73.75,
          67.4,
          65.08,
          57.72,
          54.51,
          50.01,
          45.47,
          41.19,
          36.18,
          31.3,
          27,
          22.7,
          18.75,
          15.06,
          11.56,
          8.6,
          9.55,
          4.07,
          2.6,
          1.54,
          0.9,
          0.51,
          0.3,
          0.18,
          0.12,
          0.08,
          0.07,
          0.09,
          0.03,
          0.03,
          0.02,
          0.03,
          0.02,
          0.03,
          0.02,
          0.02,
          0.01,
          0.01,
          0.01,
          0.01,
          0.01,
          0.01,
          121,
          120.57,
          110.45,
          101.9,
          104.92,
          92.9,
          87.34,
          83.8,
          83.77,
          75.2,
          77.2,
          65.4,
          61.1,
          56.1,
          50.6,
          51.29,
          39.6,
          34.86,
          30.31,
          28.55,
          24.35,
          18.7,
          17,
          13.55,
          10.6,
          7.9,
          5.8,
          4.1,
          2.78,
          1.83,
          1.18,
          0.74,
          0.48,
          0.3,
          0.25,
          0.14,
          0.1,
          0.11,
          0.05,
          0.09,
          0.06,
          0.04,
          0.03,
          0.03,
          0.03,
          0.03,
          0.05,
          0.01,
          0.01,
          0.01,
          0.01,
          0.02,
          0.03,
          0.01,
          128.44,
          124.95,
          119.47,
          116.57,
          102.07,
          102.91,
          103.28,
          90.55,
          84.85,
          80.3,
          75.6,
          70.7,
          65.83,
          60.95,
          56.85,
          53.75,
          47.25,
          46.34,
          41.13,
          32.19,
          30,
          25.7,
          21.4,
          18.77,
          15.4,
          11.99,
          9.4,
          10.52,
          5.25,
          3.77,
          2.64,
          1.8,
          1.2,
          0.78,
          0.54,
          0.38,
          0.25,
          0.18,
          0.13,
          0.11,
          0.09,
          0.09,
          0.05,
          0.04,
          0.04,
          0.03,
          0.02,
          0.02,
          0.04,
          0.03,
          0.03,
          99.07,
          93.16,
          91.07,
          82.85,
          80.04,
          73.3,
          68.6,
          59.37,
          55.99,
          51.5,
          44,
          39.63,
          35.12,
          32.12,
          27.99,
          23.52,
          18.95,
          17.02,
          13.96,
          11.1,
          8.8,
          6.75,
          5.1,
          3.75,
          2.72,
          1.97,
          1.31,
          0.95,
          0.67,
          0.56,
          0.35,
          0.34,
          0.23,
          0.2,
          0.17,
          0.15,
          0.07,
          0.12,
          0.14,
          0.04,
          128.62,
          124.3,
          121.41,
          115.4,
          103.19,
          102.65,
          96.55,
          90.4,
          89.1,
          82,
          76.49,
          71,
          67.05,
          65.75,
          63.05,
          54.44,
          47.8,
          43.55,
          41.55,
          37.32,
          33.4,
          35.95,
          26.11,
          22.95,
          19.8,
          16.6,
          14,
          11.55,
          9.5,
          7.7,
          6,
          4.76,
          3.7,
          2.75,
          2.15,
          1.62,
          1.21,
          0.86,
          0.7,
          0.55,
          0.42,
          0.33,
          0.35,
          0.21,
          0.19,
          0.2,
          0.15,
          0.15,
          0.1,
          0.1,
          0.07,
          0.05,
          132.67,
          125.66,
          118.5,
          118.19,
          110.42,
          105.12,
          100.91,
          97.06,
          93,
          87.46,
          78.75,
          74.12,
          69.66,
          65.63,
          60.6,
          59.97,
          55.44,
          48.15,
          44.4,
          40.3,
          35.45,
          32.45,
          27.56,
          30.6,
          21.37,
          20.23,
          17.29,
          15.12,
          13,
          11,
          9.1,
          7.7,
          6.2,
          5.15,
          3.97,
          3.28,
          2.77,
          2.2,
          1.8,
          1.36,
          1.15,
          0.87,
          0.74,
          0.6,
          0.49,
          0.37,
          0.31,
          0.19,
          0.13,
          130.38,
          126.31,
          126.15,
          110.67,
          106,
          106.76,
          102.23,
          92.24,
          94.26,
          81.84,
          83.95,
          80.49,
          73.81,
          67.33,
          62.47,
          63.21,
          57.5,
          50.69,
          46.11,
          45.85,
          42.2,
          36.65,
          32.26,
          28.54,
          26.5,
          24.2,
          21.25,
          18.9,
          16.68,
          14.71,
          12.55,
          10.69,
          9.22,
          7.63,
          6.59,
          5.4,
          4.55,
          4.08,
          3.65,
          3.05,
          2.4,
          2.52,
          1.55,
          1.55,
          1.4,
          0.99,
          1,
          0.78,
          0.82,
          0.51,
          0.53,
          0.47,
          0.35,
          128.15,
          121.43,
          120,
          109.27,
          104.3,
          102.72,
          97.9,
          102,
          92.8,
          84.35,
          78.55,
          78.76,
          74.2,
          67.9,
          62.35,
          62.6,
          54.87,
          51.45,
          47.67,
          44.25,
          40.43,
          37.02,
          33.94,
          30.5,
          27.74,
          24.76,
          22.2,
          19.62,
          17.43,
          15.35,
          13.39,
          11.65,
          10.05,
          8.5,
          7.25,
          6.15,
          5.45,
          4.4,
          3.75,
          3.3,
          3.8,
          2.7,
          2.19,
          1.65,
          1.51,
          1.7,
          1,
          1.03,
          0.75,
          0.57,
          0.45,
          133.2,
          125.55,
          118.45,
          114.31,
          113.52,
          107.5,
          101.42,
          96.8,
          91.11,
          90.7,
          84.75,
          79.85,
          73.83,
          72.5,
          66.25,
          64.58,
          57.13,
          55.22,
          50.97,
          46.23,
          44.15,
          44.3,
          38.1,
          35.25,
          31.29,
          29.69,
          27.1,
          24.6,
          21.95,
          19.49,
          18,
          15.97,
          15.14,
          12.76,
          10.98,
          11,
          9.4,
          7.78,
          6.6,
          6.35,
          5.34,
          4.04,
          2.89,
          2.8,
          2,
          1.42,
          1.09
         ]
        }
       ],
       "layout": {
        "autosize": true,
        "legend": {
         "tracegroupgap": 0
        },
        "scene": {
         "aspectmode": "auto",
         "aspectratio": {
          "x": 1,
          "y": 1,
          "z": 1
         },
         "camera": {
          "center": {
           "x": 0,
           "y": 0,
           "z": 0
          },
          "eye": {
           "x": 2.85830442000802,
           "y": 2.8583044200080194,
           "z": 2.85830442000802
          },
          "projection": {
           "type": "perspective"
          },
          "up": {
           "x": 0,
           "y": 0,
           "z": 1
          }
         },
         "domain": {
          "x": [
           0,
           1
          ],
          "y": [
           0,
           1
          ]
         },
         "xaxis": {
          "title": {
           "text": "days_to_expiry"
          },
          "type": "linear"
         },
         "yaxis": {
          "title": {
           "text": "strike"
          },
          "type": "linear"
         },
         "zaxis": {
          "title": {
           "text": "lastPrice"
          },
          "type": "linear"
         }
        },
        "template": {
         "data": {
          "bar": [
           {
            "error_x": {
             "color": "#2a3f5f"
            },
            "error_y": {
             "color": "#2a3f5f"
            },
            "marker": {
             "line": {
              "color": "#E5ECF6",
              "width": 0.5
             },
             "pattern": {
              "fillmode": "overlay",
              "size": 10,
              "solidity": 0.2
             }
            },
            "type": "bar"
           }
          ],
          "barpolar": [
           {
            "marker": {
             "line": {
              "color": "#E5ECF6",
              "width": 0.5
             },
             "pattern": {
              "fillmode": "overlay",
              "size": 10,
              "solidity": 0.2
             }
            },
            "type": "barpolar"
           }
          ],
          "carpet": [
           {
            "aaxis": {
             "endlinecolor": "#2a3f5f",
             "gridcolor": "white",
             "linecolor": "white",
             "minorgridcolor": "white",
             "startlinecolor": "#2a3f5f"
            },
            "baxis": {
             "endlinecolor": "#2a3f5f",
             "gridcolor": "white",
             "linecolor": "white",
             "minorgridcolor": "white",
             "startlinecolor": "#2a3f5f"
            },
            "type": "carpet"
           }
          ],
          "choropleth": [
           {
            "colorbar": {
             "outlinewidth": 0,
             "ticks": ""
            },
            "type": "choropleth"
           }
          ],
          "contour": [
           {
            "colorbar": {
             "outlinewidth": 0,
             "ticks": ""
            },
            "colorscale": [
             [
              0,
              "#0d0887"
             ],
             [
              0.1111111111111111,
              "#46039f"
             ],
             [
              0.2222222222222222,
              "#7201a8"
             ],
             [
              0.3333333333333333,
              "#9c179e"
             ],
             [
              0.4444444444444444,
              "#bd3786"
             ],
             [
              0.5555555555555556,
              "#d8576b"
             ],
             [
              0.6666666666666666,
              "#ed7953"
             ],
             [
              0.7777777777777778,
              "#fb9f3a"
             ],
             [
              0.8888888888888888,
              "#fdca26"
             ],
             [
              1,
              "#f0f921"
             ]
            ],
            "type": "contour"
           }
          ],
          "contourcarpet": [
           {
            "colorbar": {
             "outlinewidth": 0,
             "ticks": ""
            },
            "type": "contourcarpet"
           }
          ],
          "heatmap": [
           {
            "colorbar": {
             "outlinewidth": 0,
             "ticks": ""
            },
            "colorscale": [
             [
              0,
              "#0d0887"
             ],
             [
              0.1111111111111111,
              "#46039f"
             ],
             [
              0.2222222222222222,
              "#7201a8"
             ],
             [
              0.3333333333333333,
              "#9c179e"
             ],
             [
              0.4444444444444444,
              "#bd3786"
             ],
             [
              0.5555555555555556,
              "#d8576b"
             ],
             [
              0.6666666666666666,
              "#ed7953"
             ],
             [
              0.7777777777777778,
              "#fb9f3a"
             ],
             [
              0.8888888888888888,
              "#fdca26"
             ],
             [
              1,
              "#f0f921"
             ]
            ],
            "type": "heatmap"
           }
          ],
          "heatmapgl": [
           {
            "colorbar": {
             "outlinewidth": 0,
             "ticks": ""
            },
            "colorscale": [
             [
              0,
              "#0d0887"
             ],
             [
              0.1111111111111111,
              "#46039f"
             ],
             [
              0.2222222222222222,
              "#7201a8"
             ],
             [
              0.3333333333333333,
              "#9c179e"
             ],
             [
              0.4444444444444444,
              "#bd3786"
             ],
             [
              0.5555555555555556,
              "#d8576b"
             ],
             [
              0.6666666666666666,
              "#ed7953"
             ],
             [
              0.7777777777777778,
              "#fb9f3a"
             ],
             [
              0.8888888888888888,
              "#fdca26"
             ],
             [
              1,
              "#f0f921"
             ]
            ],
            "type": "heatmapgl"
           }
          ],
          "histogram": [
           {
            "marker": {
             "pattern": {
              "fillmode": "overlay",
              "size": 10,
              "solidity": 0.2
             }
            },
            "type": "histogram"
           }
          ],
          "histogram2d": [
           {
            "colorbar": {
             "outlinewidth": 0,
             "ticks": ""
            },
            "colorscale": [
             [
              0,
              "#0d0887"
             ],
             [
              0.1111111111111111,
              "#46039f"
             ],
             [
              0.2222222222222222,
              "#7201a8"
             ],
             [
              0.3333333333333333,
              "#9c179e"
             ],
             [
              0.4444444444444444,
              "#bd3786"
             ],
             [
              0.5555555555555556,
              "#d8576b"
             ],
             [
              0.6666666666666666,
              "#ed7953"
             ],
             [
              0.7777777777777778,
              "#fb9f3a"
             ],
             [
              0.8888888888888888,
              "#fdca26"
             ],
             [
              1,
              "#f0f921"
             ]
            ],
            "type": "histogram2d"
           }
          ],
          "histogram2dcontour": [
           {
            "colorbar": {
             "outlinewidth": 0,
             "ticks": ""
            },
            "colorscale": [
             [
              0,
              "#0d0887"
             ],
             [
              0.1111111111111111,
              "#46039f"
             ],
             [
              0.2222222222222222,
              "#7201a8"
             ],
             [
              0.3333333333333333,
              "#9c179e"
             ],
             [
              0.4444444444444444,
              "#bd3786"
             ],
             [
              0.5555555555555556,
              "#d8576b"
             ],
             [
              0.6666666666666666,
              "#ed7953"
             ],
             [
              0.7777777777777778,
              "#fb9f3a"
             ],
             [
              0.8888888888888888,
              "#fdca26"
             ],
             [
              1,
              "#f0f921"
             ]
            ],
            "type": "histogram2dcontour"
           }
          ],
          "mesh3d": [
           {
            "colorbar": {
             "outlinewidth": 0,
             "ticks": ""
            },
            "type": "mesh3d"
           }
          ],
          "parcoords": [
           {
            "line": {
             "colorbar": {
              "outlinewidth": 0,
              "ticks": ""
             }
            },
            "type": "parcoords"
           }
          ],
          "pie": [
           {
            "automargin": true,
            "type": "pie"
           }
          ],
          "scatter": [
           {
            "marker": {
             "colorbar": {
              "outlinewidth": 0,
              "ticks": ""
             }
            },
            "type": "scatter"
           }
          ],
          "scatter3d": [
           {
            "line": {
             "colorbar": {
              "outlinewidth": 0,
              "ticks": ""
             }
            },
            "marker": {
             "colorbar": {
              "outlinewidth": 0,
              "ticks": ""
             }
            },
            "type": "scatter3d"
           }
          ],
          "scattercarpet": [
           {
            "marker": {
             "colorbar": {
              "outlinewidth": 0,
              "ticks": ""
             }
            },
            "type": "scattercarpet"
           }
          ],
          "scattergeo": [
           {
            "marker": {
             "colorbar": {
              "outlinewidth": 0,
              "ticks": ""
             }
            },
            "type": "scattergeo"
           }
          ],
          "scattergl": [
           {
            "marker": {
             "colorbar": {
              "outlinewidth": 0,
              "ticks": ""
             }
            },
            "type": "scattergl"
           }
          ],
          "scattermapbox": [
           {
            "marker": {
             "colorbar": {
              "outlinewidth": 0,
              "ticks": ""
             }
            },
            "type": "scattermapbox"
           }
          ],
          "scatterpolar": [
           {
            "marker": {
             "colorbar": {
              "outlinewidth": 0,
              "ticks": ""
             }
            },
            "type": "scatterpolar"
           }
          ],
          "scatterpolargl": [
           {
            "marker": {
             "colorbar": {
              "outlinewidth": 0,
              "ticks": ""
             }
            },
            "type": "scatterpolargl"
           }
          ],
          "scatterternary": [
           {
            "marker": {
             "colorbar": {
              "outlinewidth": 0,
              "ticks": ""
             }
            },
            "type": "scatterternary"
           }
          ],
          "surface": [
           {
            "colorbar": {
             "outlinewidth": 0,
             "ticks": ""
            },
            "colorscale": [
             [
              0,
              "#0d0887"
             ],
             [
              0.1111111111111111,
              "#46039f"
             ],
             [
              0.2222222222222222,
              "#7201a8"
             ],
             [
              0.3333333333333333,
              "#9c179e"
             ],
             [
              0.4444444444444444,
              "#bd3786"
             ],
             [
              0.5555555555555556,
              "#d8576b"
             ],
             [
              0.6666666666666666,
              "#ed7953"
             ],
             [
              0.7777777777777778,
              "#fb9f3a"
             ],
             [
              0.8888888888888888,
              "#fdca26"
             ],
             [
              1,
              "#f0f921"
             ]
            ],
            "type": "surface"
           }
          ],
          "table": [
           {
            "cells": {
             "fill": {
              "color": "#EBF0F8"
             },
             "line": {
              "color": "white"
             }
            },
            "header": {
             "fill": {
              "color": "#C8D4E3"
             },
             "line": {
              "color": "white"
             }
            },
            "type": "table"
           }
          ]
         },
         "layout": {
          "annotationdefaults": {
           "arrowcolor": "#2a3f5f",
           "arrowhead": 0,
           "arrowwidth": 1
          },
          "autotypenumbers": "strict",
          "coloraxis": {
           "colorbar": {
            "outlinewidth": 0,
            "ticks": ""
           }
          },
          "colorscale": {
           "diverging": [
            [
             0,
             "#8e0152"
            ],
            [
             0.1,
             "#c51b7d"
            ],
            [
             0.2,
             "#de77ae"
            ],
            [
             0.3,
             "#f1b6da"
            ],
            [
             0.4,
             "#fde0ef"
            ],
            [
             0.5,
             "#f7f7f7"
            ],
            [
             0.6,
             "#e6f5d0"
            ],
            [
             0.7,
             "#b8e186"
            ],
            [
             0.8,
             "#7fbc41"
            ],
            [
             0.9,
             "#4d9221"
            ],
            [
             1,
             "#276419"
            ]
           ],
           "sequential": [
            [
             0,
             "#0d0887"
            ],
            [
             0.1111111111111111,
             "#46039f"
            ],
            [
             0.2222222222222222,
             "#7201a8"
            ],
            [
             0.3333333333333333,
             "#9c179e"
            ],
            [
             0.4444444444444444,
             "#bd3786"
            ],
            [
             0.5555555555555556,
             "#d8576b"
            ],
            [
             0.6666666666666666,
             "#ed7953"
            ],
            [
             0.7777777777777778,
             "#fb9f3a"
            ],
            [
             0.8888888888888888,
             "#fdca26"
            ],
            [
             1,
             "#f0f921"
            ]
           ],
           "sequentialminus": [
            [
             0,
             "#0d0887"
            ],
            [
             0.1111111111111111,
             "#46039f"
            ],
            [
             0.2222222222222222,
             "#7201a8"
            ],
            [
             0.3333333333333333,
             "#9c179e"
            ],
            [
             0.4444444444444444,
             "#bd3786"
            ],
            [
             0.5555555555555556,
             "#d8576b"
            ],
            [
             0.6666666666666666,
             "#ed7953"
            ],
            [
             0.7777777777777778,
             "#fb9f3a"
            ],
            [
             0.8888888888888888,
             "#fdca26"
            ],
            [
             1,
             "#f0f921"
            ]
           ]
          },
          "colorway": [
           "#636efa",
           "#EF553B",
           "#00cc96",
           "#ab63fa",
           "#FFA15A",
           "#19d3f3",
           "#FF6692",
           "#B6E880",
           "#FF97FF",
           "#FECB52"
          ],
          "font": {
           "color": "#2a3f5f"
          },
          "geo": {
           "bgcolor": "white",
           "lakecolor": "white",
           "landcolor": "#E5ECF6",
           "showlakes": true,
           "showland": true,
           "subunitcolor": "white"
          },
          "hoverlabel": {
           "align": "left"
          },
          "hovermode": "closest",
          "mapbox": {
           "style": "light"
          },
          "paper_bgcolor": "white",
          "plot_bgcolor": "#E5ECF6",
          "polar": {
           "angularaxis": {
            "gridcolor": "white",
            "linecolor": "white",
            "ticks": ""
           },
           "bgcolor": "#E5ECF6",
           "radialaxis": {
            "gridcolor": "white",
            "linecolor": "white",
            "ticks": ""
           }
          },
          "scene": {
           "xaxis": {
            "backgroundcolor": "#E5ECF6",
            "gridcolor": "white",
            "gridwidth": 2,
            "linecolor": "white",
            "showbackground": true,
            "ticks": "",
            "zerolinecolor": "white"
           },
           "yaxis": {
            "backgroundcolor": "#E5ECF6",
            "gridcolor": "white",
            "gridwidth": 2,
            "linecolor": "white",
            "showbackground": true,
            "ticks": "",
            "zerolinecolor": "white"
           },
           "zaxis": {
            "backgroundcolor": "#E5ECF6",
            "gridcolor": "white",
            "gridwidth": 2,
            "linecolor": "white",
            "showbackground": true,
            "ticks": "",
            "zerolinecolor": "white"
           }
          },
          "shapedefaults": {
           "line": {
            "color": "#2a3f5f"
           }
          },
          "ternary": {
           "aaxis": {
            "gridcolor": "white",
            "linecolor": "white",
            "ticks": ""
           },
           "baxis": {
            "gridcolor": "white",
            "linecolor": "white",
            "ticks": ""
           },
           "bgcolor": "#E5ECF6",
           "caxis": {
            "gridcolor": "white",
            "linecolor": "white",
            "ticks": ""
           }
          },
          "title": {
           "x": 0.05
          },
          "xaxis": {
           "automargin": true,
           "gridcolor": "white",
           "linecolor": "white",
           "ticks": "",
           "title": {
            "standoff": 15
           },
           "zerolinecolor": "white",
           "zerolinewidth": 2
          },
          "yaxis": {
           "automargin": true,
           "gridcolor": "white",
           "linecolor": "white",
           "ticks": "",
           "title": {
            "standoff": 15
           },
           "zerolinecolor": "white",
           "zerolinewidth": 2
          }
         }
        },
        "title": {
         "text": "Plotly: Option Prices vs. Maturity and Strike Price"
        }
       }
      },
      "image/png": "[encoded data removed]",
      "text/html": [
       "<div>                            <div id=\"ae2ac075-80b2-464f-8f55-b311be4a021c\" class=\"plotly-graph-div\" style=\"height:525px; width:100%;\"></div>            <script type=\"text/javascript\">                require([\"plotly\"], function(Plotly) {                    window.PLOTLYENV=window.PLOTLYENV || {};                                    if (document.getElementById(\"ae2ac075-80b2-464f-8f55-b311be4a021c\")) {                    Plotly.newPlot(                        \"ae2ac075-80b2-464f-8f55-b311be4a021c\",                        [{\"hovertemplate\":\"days_to_expiry=%{x}<br>strike=%{y}<br>lastPrice=%{z}<extra></extra>\",\"legendgroup\":\"\",\"marker\":{\"color\":\"#636efa\",\"symbol\":\"circle\"},\"mode\":\"markers\",\"name\":\"\",\"scene\":\"scene\",\"showlegend\":false,\"x\":[51,51,51,51,51,51,51,51,51,51,51,51,51,51,51,51,51,51,51,51,51,51,51,51,51,51,51,51,51,51,51,51,51,51,51,51,51,51,51,51,51,51,51,51,51,51,51,86,86,86,86,86,86,86,86,86,86,86,86,86,86,86,86,86,86,86,86,86,86,86,86,86,86,86,86,86,86,86,86,86,86,86,86,86,86,86,86,86,86,86,86,86,86,86,86,86,86,86,86,114,114,114,114,114,114,114,114,114,114,114,114,114,114,114,114,114,114,114,114,114,114,114,114,114,114,114,114,114,114,114,114,114,114,114,114,114,114,114,114,114,114,114,114,114,114,114,114,114,114,114,114,114,114,142,142,142,142,142,142,142,142,142,142,142,142,142,142,142,142,142,142,142,142,142,142,142,142,142,142,142,142,142,142,142,142,142,142,142,142,142,142,142,142,142,142,142,142,142,142,142,142,142,142,142,177,177,177,177,177,177,177,177,177,177,177,177,177,177,177,177,177,177,177,177,177,177,177,177,177,177,177,177,177,177,177,177,177,177,177,177,177,177,177,177,240,240,240,240,240,240,240,240,240,240,240,240,240,240,240,240,240,240,240,240,240,240,240,240,240,240,240,240,240,240,240,240,240,240,240,240,240,240,240,240,240,240,240,240,240,240,240,240,240,240,240,240,331,331,331,331,331,331,331,331,331,331,331,331,331,331,331,331,331,331,331,331,331,331,331,331,331,331,331,331,331,331,331,331,331,331,331,331,331,331,331,331,331,331,331,331,331,331,331,331,331,422,422,422,422,422,422,422,422,422,422,422,422,422,422,422,422,422,422,422,422,422,422,422,422,422,422,422,422,422,422,422,422,422,422,422,422,422,422,422,422,422,422,422,422,422,422,422,422,422,422,422,422,422,450,450,450,450,450,450,450,450,450,450,450,450,450,450,450,450,450,450,450,450,450,450,450,450,450,450,450,450,450,450,450,450,450,450,450,450,450,450,450,450,450,450,450,450,450,450,450,450,450,450,450,604,604,604,604,604,604,604,604,604,604,604,604,604,604,604,604,604,604,604,604,604,604,604,604,604,604,604,604,604,604,604,604,604,604,604,604,604,604,604,604,604,604,604,604,604,604,604],\"y\":[65.0,70.0,75.0,80.0,85.0,90.0,95.0,100.0,105.0,110.0,115.0,120.0,125.0,130.0,135.0,140.0,145.0,150.0,155.0,160.0,165.0,170.0,175.0,180.0,185.0,190.0,195.0,200.0,205.0,210.0,215.0,220.0,225.0,230.0,235.0,240.0,245.0,250.0,255.0,260.0,265.0,270.0,275.0,280.0,285.0,290.0,295.0,50.0,55.0,60.0,65.0,70.0,75.0,80.0,85.0,90.0,95.0,100.0,105.0,110.0,115.0,120.0,125.0,130.0,135.0,140.0,145.0,150.0,155.0,160.0,165.0,170.0,175.0,180.0,185.0,190.0,195.0,200.0,205.0,210.0,215.0,220.0,225.0,230.0,235.0,240.0,245.0,250.0,255.0,260.0,265.0,270.0,275.0,280.0,285.0,290.0,300.0,310.0,320.0,50.0,60.0,65.0,70.0,75.0,80.0,85.0,90.0,95.0,100.0,105.0,110.0,115.0,120.0,125.0,130.0,135.0,140.0,145.0,150.0,155.0,160.0,165.0,170.0,175.0,180.0,185.0,190.0,195.0,200.0,205.0,210.0,215.0,220.0,225.0,230.0,235.0,240.0,245.0,250.0,255.0,260.0,265.0,270.0,275.0,280.0,285.0,290.0,295.0,300.0,305.0,310.0,315.0,320.0,50.0,55.0,60.0,65.0,70.0,75.0,80.0,85.0,90.0,95.0,100.0,105.0,110.0,115.0,120.0,125.0,130.0,135.0,140.0,145.0,150.0,155.0,160.0,165.0,170.0,175.0,180.0,185.0,190.0,195.0,200.0,205.0,210.0,215.0,220.0,225.0,230.0,235.0,240.0,245.0,250.0,255.0,260.0,265.0,270.0,275.0,280.0,285.0,290.0,300.0,310.0,80.0,85.0,90.0,95.0,100.0,110.0,115.0,120.0,125.0,130.0,135.0,140.0,145.0,150.0,155.0,160.0,165.0,170.0,175.0,180.0,185.0,190.0,195.0,200.0,205.0,210.0,215.0,220.0,225.0,230.0,235.0,240.0,245.0,250.0,255.0,260.0,265.0,270.0,275.0,280.0,50.0,55.0,60.0,65.0,70.0,75.0,80.0,85.0,90.0,95.0,100.0,105.0,110.0,115.0,120.0,125.0,130.0,135.0,140.0,145.0,150.0,155.0,160.0,165.0,170.0,175.0,180.0,185.0,190.0,195.0,200.0,205.0,210.0,215.0,220.0,225.0,230.0,235.0,240.0,245.0,250.0,255.0,260.0,265.0,270.0,275.0,280.0,285.0,290.0,300.0,310.0,320.0,50.0,55.0,60.0,65.0,70.0,75.0,80.0,85.0,90.0,95.0,100.0,105.0,110.0,115.0,120.0,125.0,130.0,135.0,140.0,145.0,150.0,155.0,160.0,165.0,170.0,175.0,180.0,185.0,190.0,195.0,200.0,205.0,210.0,215.0,220.0,225.0,230.0,235.0,240.0,245.0,250.0,255.0,260.0,265.0,270.0,280.0,290.0,300.0,310.0,50.0,55.0,60.0,65.0,70.0,75.0,80.0,85.0,90.0,95.0,100.0,105.0,110.0,115.0,120.0,125.0,130.0,135.0,140.0,145.0,150.0,155.0,160.0,165.0,170.0,175.0,180.0,185.0,190.0,195.0,200.0,205.0,210.0,215.0,220.0,225.0,230.0,235.0,240.0,245.0,250.0,255.0,260.0,265.0,270.0,275.0,280.0,285.0,290.0,295.0,300.0,305.0,310.0,50.0,55.0,60.0,65.0,70.0,75.0,80.0,85.0,90.0,95.0,100.0,105.0,110.0,115.0,120.0,125.0,130.0,135.0,140.0,145.0,150.0,155.0,160.0,165.0,170.0,175.0,180.0,185.0,190.0,195.0,200.0,205.0,210.0,215.0,220.0,225.0,230.0,235.0,240.0,245.0,250.0,255.0,260.0,265.0,270.0,275.0,280.0,285.0,290.0,300.0,310.0,50.0,55.0,60.0,65.0,70.0,75.0,80.0,85.0,90.0,95.0,100.0,105.0,110.0,115.0,120.0,125.0,130.0,135.0,140.0,145.0,150.0,155.0,160.0,165.0,170.0,175.0,180.0,185.0,190.0,195.0,200.0,205.0,210.0,215.0,220.0,225.0,230.0,235.0,240.0,245.0,250.0,260.0,270.0,280.0,290.0,300.0,310.0],\"z\":[108.5,106.55,100.1,96.65,88.36,83.1,79.01,74.34,68.7,61.7,59.45,54.25,49.0,44.26,39.35,34.85,30.25,25.26,26.0,16.75,12.95,9.4,6.52,4.05,2.28,1.24,0.62,0.31,0.17,0.1,0.07,0.04,0.04,0.02,0.02,0.01,0.01,0.01,0.01,0.02,0.01,0.01,0.01,0.01,0.01,0.01,0.01,132.25,115.57,118.82,107.64,112.98,98.85,97.6,89.44,84.2,83.06,73.75,67.4,65.08,57.72,54.51,50.01,45.47,41.19,36.18,31.3,27.0,22.7,18.75,15.06,11.56,8.6,9.55,4.07,2.6,1.54,0.9,0.51,0.3,0.18,0.12,0.08,0.07,0.09,0.03,0.03,0.02,0.03,0.02,0.03,0.02,0.02,0.01,0.01,0.01,0.01,0.01,0.01,121.0,120.57,110.45,101.9,104.92,92.9,87.34,83.8,83.77,75.2,77.2,65.4,61.1,56.1,50.6,51.29,39.6,34.86,30.31,28.55,24.35,18.7,17.0,13.55,10.6,7.9,5.8,4.1,2.78,1.83,1.18,0.74,0.48,0.3,0.25,0.14,0.1,0.11,0.05,0.09,0.06,0.04,0.03,0.03,0.03,0.03,0.05,0.01,0.01,0.01,0.01,0.02,0.03,0.01,128.44,124.95,119.47,116.57,102.07,102.91,103.28,90.55,84.85,80.3,75.6,70.7,65.83,60.95,56.85,53.75,47.25,46.34,41.13,32.19,30.0,25.7,21.4,18.77,15.4,11.99,9.4,10.52,5.25,3.77,2.64,1.8,1.2,0.78,0.54,0.38,0.25,0.18,0.13,0.11,0.09,0.09,0.05,0.04,0.04,0.03,0.02,0.02,0.04,0.03,0.03,99.07,93.16,91.07,82.85,80.04,73.3,68.6,59.37,55.99,51.5,44.0,39.63,35.12,32.12,27.99,23.52,18.95,17.02,13.96,11.1,8.8,6.75,5.1,3.75,2.72,1.97,1.31,0.95,0.67,0.56,0.35,0.34,0.23,0.2,0.17,0.15,0.07,0.12,0.14,0.04,128.62,124.3,121.41,115.4,103.19,102.65,96.55,90.4,89.1,82.0,76.49,71.0,67.05,65.75,63.05,54.44,47.8,43.55,41.55,37.32,33.4,35.95,26.11,22.95,19.8,16.6,14.0,11.55,9.5,7.7,6.0,4.76,3.7,2.75,2.15,1.62,1.21,0.86,0.7,0.55,0.42,0.33,0.35,0.21,0.19,0.2,0.15,0.15,0.1,0.1,0.07,0.05,132.67,125.66,118.5,118.19,110.42,105.12,100.91,97.06,93.0,87.46,78.75,74.12,69.66,65.63,60.6,59.97,55.44,48.15,44.4,40.3,35.45,32.45,27.56,30.6,21.37,20.23,17.29,15.12,13.0,11.0,9.1,7.7,6.2,5.15,3.97,3.28,2.77,2.2,1.8,1.36,1.15,0.87,0.74,0.6,0.49,0.37,0.31,0.19,0.13,130.38,126.31,126.15,110.67,106.0,106.76,102.23,92.24,94.26,81.84,83.95,80.49,73.81,67.33,62.47,63.21,57.5,50.69,46.11,45.85,42.2,36.65,32.26,28.54,26.5,24.2,21.25,18.9,16.68,14.71,12.55,10.69,9.22,7.63,6.59,5.4,4.55,4.08,3.65,3.05,2.4,2.52,1.55,1.55,1.4,0.99,1.0,0.78,0.82,0.51,0.53,0.47,0.35,128.15,121.43,120.0,109.27,104.3,102.72,97.9,102.0,92.8,84.35,78.55,78.76,74.2,67.9,62.35,62.6,54.87,51.45,47.67,44.25,40.43,37.02,33.94,30.5,27.74,24.76,22.2,19.62,17.43,15.35,13.39,11.65,10.05,8.5,7.25,6.15,5.45,4.4,3.75,3.3,3.8,2.7,2.19,1.65,1.51,1.7,1.0,1.03,0.75,0.57,0.45,133.2,125.55,118.45,114.31,113.52,107.5,101.42,96.8,91.11,90.7,84.75,79.85,73.83,72.5,66.25,64.58,57.13,55.22,50.97,46.23,44.15,44.3,38.1,35.25,31.29,29.69,27.1,24.6,21.95,19.49,18.0,15.97,15.14,12.76,10.98,11.0,9.4,7.78,6.6,6.35,5.34,4.04,2.89,2.8,2.0,1.42,1.09],\"type\":\"scatter3d\"}],                        {\"template\":{\"data\":{\"bar\":[{\"error_x\":{\"color\":\"#2a3f5f\"},\"error_y\":{\"color\":\"#2a3f5f\"},\"marker\":{\"line\":{\"color\":\"#E5ECF6\",\"width\":0.5},\"pattern\":{\"fillmode\":\"overlay\",\"size\":10,\"solidity\":0.2}},\"type\":\"bar\"}],\"barpolar\":[{\"marker\":{\"line\":{\"color\":\"#E5ECF6\",\"width\":0.5},\"pattern\":{\"fillmode\":\"overlay\",\"size\":10,\"solidity\":0.2}},\"type\":\"barpolar\"}],\"carpet\":[{\"aaxis\":{\"endlinecolor\":\"#2a3f5f\",\"gridcolor\":\"white\",\"linecolor\":\"white\",\"minorgridcolor\":\"white\",\"startlinecolor\":\"#2a3f5f\"},\"baxis\":{\"endlinecolor\":\"#2a3f5f\",\"gridcolor\":\"white\",\"linecolor\":\"white\",\"minorgridcolor\":\"white\",\"startlinecolor\":\"#2a3f5f\"},\"type\":\"carpet\"}],\"choropleth\":[{\"colorbar\":{\"outlinewidth\":0,\"ticks\":\"\"},\"type\":\"choropleth\"}],\"contour\":[{\"colorbar\":{\"outlinewidth\":0,\"ticks\":\"\"},\"colorscale\":[[0.0,\"#0d0887\"],[0.1111111111111111,\"#46039f\"],[0.2222222222222222,\"#7201a8\"],[0.3333333333333333,\"#9c179e\"],[0.4444444444444444,\"#bd3786\"],[0.5555555555555556,\"#d8576b\"],[0.6666666666666666,\"#ed7953\"],[0.7777777777777778,\"#fb9f3a\"],[0.8888888888888888,\"#fdca26\"],[1.0,\"#f0f921\"]],\"type\":\"contour\"}],\"contourcarpet\":[{\"colorbar\":{\"outlinewidth\":0,\"ticks\":\"\"},\"type\":\"contourcarpet\"}],\"heatmap\":[{\"colorbar\":{\"outlinewidth\":0,\"ticks\":\"\"},\"colorscale\":[[0.0,\"#0d0887\"],[0.1111111111111111,\"#46039f\"],[0.2222222222222222,\"#7201a8\"],[0.3333333333333333,\"#9c179e\"],[0.4444444444444444,\"#bd3786\"],[0.5555555555555556,\"#d8576b\"],[0.6666666666666666,\"#ed7953\"],[0.7777777777777778,\"#fb9f3a\"],[0.8888888888888888,\"#fdca26\"],[1.0,\"#f0f921\"]],\"type\":\"heatmap\"}],\"heatmapgl\":[{\"colorbar\":{\"outlinewidth\":0,\"ticks\":\"\"},\"colorscale\":[[0.0,\"#0d0887\"],[0.1111111111111111,\"#46039f\"],[0.2222222222222222,\"#7201a8\"],[0.3333333333333333,\"#9c179e\"],[0.4444444444444444,\"#bd3786\"],[0.5555555555555556,\"#d8576b\"],[0.6666666666666666,\"#ed7953\"],[0.7777777777777778,\"#fb9f3a\"],[0.8888888888888888,\"#fdca26\"],[1.0,\"#f0f921\"]],\"type\":\"heatmapgl\"}],\"histogram\":[{\"marker\":{\"pattern\":{\"fillmode\":\"overlay\",\"size\":10,\"solidity\":0.2}},\"type\":\"histogram\"}],\"histogram2d\":[{\"colorbar\":{\"outlinewidth\":0,\"ticks\":\"\"},\"colorscale\":[[0.0,\"#0d0887\"],[0.1111111111111111,\"#46039f\"],[0.2222222222222222,\"#7201a8\"],[0.3333333333333333,\"#9c179e\"],[0.4444444444444444,\"#bd3786\"],[0.5555555555555556,\"#d8576b\"],[0.6666666666666666,\"#ed7953\"],[0.7777777777777778,\"#fb9f3a\"],[0.8888888888888888,\"#fdca26\"],[1.0,\"#f0f921\"]],\"type\":\"histogram2d\"}],\"histogram2dcontour\":[{\"colorbar\":{\"outlinewidth\":0,\"ticks\":\"\"},\"colorscale\":[[0.0,\"#0d0887\"],[0.1111111111111111,\"#46039f\"],[0.2222222222222222,\"#7201a8\"],[0.3333333333333333,\"#9c179e\"],[0.4444444444444444,\"#bd3786\"],[0.5555555555555556,\"#d8576b\"],[0.6666666666666666,\"#ed7953\"],[0.7777777777777778,\"#fb9f3a\"],[0.8888888888888888,\"#fdca26\"],[1.0,\"#f0f921\"]],\"type\":\"histogram2dcontour\"}],\"mesh3d\":[{\"colorbar\":{\"outlinewidth\":0,\"ticks\":\"\"},\"type\":\"mesh3d\"}],\"parcoords\":[{\"line\":{\"colorbar\":{\"outlinewidth\":0,\"ticks\":\"\"}},\"type\":\"parcoords\"}],\"pie\":[{\"automargin\":true,\"type\":\"pie\"}],\"scatter\":[{\"marker\":{\"colorbar\":{\"outlinewidth\":0,\"ticks\":\"\"}},\"type\":\"scatter\"}],\"scatter3d\":[{\"line\":{\"colorbar\":{\"outlinewidth\":0,\"ticks\":\"\"}},\"marker\":{\"colorbar\":{\"outlinewidth\":0,\"ticks\":\"\"}},\"type\":\"scatter3d\"}],\"scattercarpet\":[{\"marker\":{\"colorbar\":{\"outlinewidth\":0,\"ticks\":\"\"}},\"type\":\"scattercarpet\"}],\"scattergeo\":[{\"marker\":{\"colorbar\":{\"outlinewidth\":0,\"ticks\":\"\"}},\"type\":\"scattergeo\"}],\"scattergl\":[{\"marker\":{\"colorbar\":{\"outlinewidth\":0,\"ticks\":\"\"}},\"type\":\"scattergl\"}],\"scattermapbox\":[{\"marker\":{\"colorbar\":{\"outlinewidth\":0,\"ticks\":\"\"}},\"type\":\"scattermapbox\"}],\"scatterpolar\":[{\"marker\":{\"colorbar\":{\"outlinewidth\":0,\"ticks\":\"\"}},\"type\":\"scatterpolar\"}],\"scatterpolargl\":[{\"marker\":{\"colorbar\":{\"outlinewidth\":0,\"ticks\":\"\"}},\"type\":\"scatterpolargl\"}],\"scatterternary\":[{\"marker\":{\"colorbar\":{\"outlinewidth\":0,\"ticks\":\"\"}},\"type\":\"scatterternary\"}],\"surface\":[{\"colorbar\":{\"outlinewidth\":0,\"ticks\":\"\"},\"colorscale\":[[0.0,\"#0d0887\"],[0.1111111111111111,\"#46039f\"],[0.2222222222222222,\"#7201a8\"],[0.3333333333333333,\"#9c179e\"],[0.4444444444444444,\"#bd3786\"],[0.5555555555555556,\"#d8576b\"],[0.6666666666666666,\"#ed7953\"],[0.7777777777777778,\"#fb9f3a\"],[0.8888888888888888,\"#fdca26\"],[1.0,\"#f0f921\"]],\"type\":\"surface\"}],\"table\":[{\"cells\":{\"fill\":{\"color\":\"#EBF0F8\"},\"line\":{\"color\":\"white\"}},\"header\":{\"fill\":{\"color\":\"#C8D4E3\"},\"line\":{\"color\":\"white\"}},\"type\":\"table\"}]},\"layout\":{\"annotationdefaults\":{\"arrowcolor\":\"#2a3f5f\",\"arrowhead\":0,\"arrowwidth\":1},\"autotypenumbers\":\"strict\",\"coloraxis\":{\"colorbar\":{\"outlinewidth\":0,\"ticks\":\"\"}},\"colorscale\":{\"diverging\":[[0,\"#8e0152\"],[0.1,\"#c51b7d\"],[0.2,\"#de77ae\"],[0.3,\"#f1b6da\"],[0.4,\"#fde0ef\"],[0.5,\"#f7f7f7\"],[0.6,\"#e6f5d0\"],[0.7,\"#b8e186\"],[0.8,\"#7fbc41\"],[0.9,\"#4d9221\"],[1,\"#276419\"]],\"sequential\":[[0.0,\"#0d0887\"],[0.1111111111111111,\"#46039f\"],[0.2222222222222222,\"#7201a8\"],[0.3333333333333333,\"#9c179e\"],[0.4444444444444444,\"#bd3786\"],[0.5555555555555556,\"#d8576b\"],[0.6666666666666666,\"#ed7953\"],[0.7777777777777778,\"#fb9f3a\"],[0.8888888888888888,\"#fdca26\"],[1.0,\"#f0f921\"]],\"sequentialminus\":[[0.0,\"#0d0887\"],[0.1111111111111111,\"#46039f\"],[0.2222222222222222,\"#7201a8\"],[0.3333333333333333,\"#9c179e\"],[0.4444444444444444,\"#bd3786\"],[0.5555555555555556,\"#d8576b\"],[0.6666666666666666,\"#ed7953\"],[0.7777777777777778,\"#fb9f3a\"],[0.8888888888888888,\"#fdca26\"],[1.0,\"#f0f921\"]]},\"colorway\":[\"#636efa\",\"#EF553B\",\"#00cc96\",\"#ab63fa\",\"#FFA15A\",\"#19d3f3\",\"#FF6692\",\"#B6E880\",\"#FF97FF\",\"#FECB52\"],\"font\":{\"color\":\"#2a3f5f\"},\"geo\":{\"bgcolor\":\"white\",\"lakecolor\":\"white\",\"landcolor\":\"#E5ECF6\",\"showlakes\":true,\"showland\":true,\"subunitcolor\":\"white\"},\"hoverlabel\":{\"align\":\"left\"},\"hovermode\":\"closest\",\"mapbox\":{\"style\":\"light\"},\"paper_bgcolor\":\"white\",\"plot_bgcolor\":\"#E5ECF6\",\"polar\":{\"angularaxis\":{\"gridcolor\":\"white\",\"linecolor\":\"white\",\"ticks\":\"\"},\"bgcolor\":\"#E5ECF6\",\"radialaxis\":{\"gridcolor\":\"white\",\"linecolor\":\"white\",\"ticks\":\"\"}},\"scene\":{\"xaxis\":{\"backgroundcolor\":\"#E5ECF6\",\"gridcolor\":\"white\",\"gridwidth\":2,\"linecolor\":\"white\",\"showbackground\":true,\"ticks\":\"\",\"zerolinecolor\":\"white\"},\"yaxis\":{\"backgroundcolor\":\"#E5ECF6\",\"gridcolor\":\"white\",\"gridwidth\":2,\"linecolor\":\"white\",\"showbackground\":true,\"ticks\":\"\",\"zerolinecolor\":\"white\"},\"zaxis\":{\"backgroundcolor\":\"#E5ECF6\",\"gridcolor\":\"white\",\"gridwidth\":2,\"linecolor\":\"white\",\"showbackground\":true,\"ticks\":\"\",\"zerolinecolor\":\"white\"}},\"shapedefaults\":{\"line\":{\"color\":\"#2a3f5f\"}},\"ternary\":{\"aaxis\":{\"gridcolor\":\"white\",\"linecolor\":\"white\",\"ticks\":\"\"},\"baxis\":{\"gridcolor\":\"white\",\"linecolor\":\"white\",\"ticks\":\"\"},\"bgcolor\":\"#E5ECF6\",\"caxis\":{\"gridcolor\":\"white\",\"linecolor\":\"white\",\"ticks\":\"\"}},\"title\":{\"x\":0.05},\"xaxis\":{\"automargin\":true,\"gridcolor\":\"white\",\"linecolor\":\"white\",\"ticks\":\"\",\"title\":{\"standoff\":15},\"zerolinecolor\":\"white\",\"zerolinewidth\":2},\"yaxis\":{\"automargin\":true,\"gridcolor\":\"white\",\"linecolor\":\"white\",\"ticks\":\"\",\"title\":{\"standoff\":15},\"zerolinecolor\":\"white\",\"zerolinewidth\":2}}},\"scene\":{\"domain\":{\"x\":[0.0,1.0],\"y\":[0.0,1.0]},\"xaxis\":{\"title\":{\"text\":\"days_to_expiry\"}},\"yaxis\":{\"title\":{\"text\":\"strike\"}},\"zaxis\":{\"title\":{\"text\":\"lastPrice\"}}},\"legend\":{\"tracegroupgap\":0},\"title\":{\"text\":\"Plotly: Option Prices vs. Maturity and Strike Price\"}},                        {\"responsive\": true}                    ).then(function(){\n",
       "                            \n",
       "var gd = document.getElementById('ae2ac075-80b2-464f-8f55-b311be4a021c');\n",
       "var x = new MutationObserver(function (mutations, observer) {{\n",
       "        var display = window.getComputedStyle(gd).display;\n",
       "        if (!display || display === 'none') {{\n",
       "            console.log([gd, 'removed!']);\n",
       "            Plotly.purge(gd);\n",
       "            observer.disconnect();\n",
       "        }}\n",
       "}});\n",
       "\n",
       "// Listen for the removal of the full notebook cells\n",
       "var notebookContainer = gd.closest('#notebook-container');\n",
       "if (notebookContainer) {{\n",
       "    x.observe(notebookContainer, {childList: true});\n",
       "}}\n",
       "\n",
       "// Listen for the clearing of the current output cell\n",
       "var outputEl = gd.closest('.output');\n",
       "if (outputEl) {{\n",
       "    x.observe(outputEl, {childList: true});\n",
       "}}\n",
       "\n",
       "                        })                };                });            </script>        </div>"
      ]
     },
     "metadata": {},
     "output_type": "display_data"
    }
   ],
   "source": [
    "import plotly.express as px\n",
    "fig = px.scatter_3d(all_calls, x='days_to_expiry', y='strike', z='lastPrice',\n",
    "                    title='Plotly: Option Prices vs. Maturity and Strike Price')\n",
    "fig.show()"
   ]
  },
  {
   "cell_type": "code",
   "execution_count": 2,
   "id": "15a2cc95-5479-47b1-9379-35afa6ee0189",
   "metadata": {
    "pycharm": {
     "name": "#%%\n"
    },
    "tags": []
   },
   "outputs": [
    {
     "ename": "NameError",
     "evalue": "name 'all_calls' is not defined",
     "output_type": "error",
     "traceback": [
      "\u001b[1;31m---------------------------------------------------------------------------\u001b[0m",
      "\u001b[1;31mNameError\u001b[0m                                 Traceback (most recent call last)",
      "Cell \u001b[1;32mIn[2], line 4\u001b[0m\n\u001b[0;32m      1\u001b[0m \u001b[38;5;28;01mimport\u001b[39;00m \u001b[38;5;21;01mplotly\u001b[39;00m\u001b[38;5;21;01m.\u001b[39;00m\u001b[38;5;21;01mgraph_objects\u001b[39;00m \u001b[38;5;28;01mas\u001b[39;00m \u001b[38;5;21;01mgo\u001b[39;00m\n\u001b[0;32m      3\u001b[0m \u001b[38;5;66;03m# Pivot the data to get a grid suitable for a surface plot\u001b[39;00m\n\u001b[1;32m----> 4\u001b[0m pivot_table \u001b[38;5;241m=\u001b[39m \u001b[43mall_calls\u001b[49m\u001b[38;5;241m.\u001b[39mpivot(index\u001b[38;5;241m=\u001b[39m\u001b[38;5;124m'\u001b[39m\u001b[38;5;124mdays_to_expiry\u001b[39m\u001b[38;5;124m'\u001b[39m, columns\u001b[38;5;241m=\u001b[39m\u001b[38;5;124m'\u001b[39m\u001b[38;5;124mstrike\u001b[39m\u001b[38;5;124m'\u001b[39m, values\u001b[38;5;241m=\u001b[39m\u001b[38;5;124m'\u001b[39m\u001b[38;5;124mlastPrice\u001b[39m\u001b[38;5;124m'\u001b[39m)\n\u001b[0;32m      6\u001b[0m fig \u001b[38;5;241m=\u001b[39m go\u001b[38;5;241m.\u001b[39mFigure(data\u001b[38;5;241m=\u001b[39m[go\u001b[38;5;241m.\u001b[39mSurface(z\u001b[38;5;241m=\u001b[39mpivot_table\u001b[38;5;241m.\u001b[39mvalues, x\u001b[38;5;241m=\u001b[39mpivot_table\u001b[38;5;241m.\u001b[39mcolumns, y\u001b[38;5;241m=\u001b[39mpivot_table\u001b[38;5;241m.\u001b[39mindex)])\n\u001b[0;32m      7\u001b[0m fig\u001b[38;5;241m.\u001b[39mupdate_layout(title\u001b[38;5;241m=\u001b[39m\u001b[38;5;124m'\u001b[39m\u001b[38;5;124mPlotly: Option Prices Surface Plot\u001b[39m\u001b[38;5;124m'\u001b[39m, scene\u001b[38;5;241m=\u001b[39m\u001b[38;5;28mdict\u001b[39m(\n\u001b[0;32m      8\u001b[0m                   xaxis_title\u001b[38;5;241m=\u001b[39m\u001b[38;5;124m'\u001b[39m\u001b[38;5;124mStrike Price\u001b[39m\u001b[38;5;124m'\u001b[39m,\n\u001b[0;32m      9\u001b[0m                   yaxis_title\u001b[38;5;241m=\u001b[39m\u001b[38;5;124m'\u001b[39m\u001b[38;5;124mDays to Expiry\u001b[39m\u001b[38;5;124m'\u001b[39m,\n\u001b[0;32m     10\u001b[0m                   zaxis_title\u001b[38;5;241m=\u001b[39m\u001b[38;5;124m'\u001b[39m\u001b[38;5;124mOption Price\u001b[39m\u001b[38;5;124m'\u001b[39m))\n",
      "\u001b[1;31mNameError\u001b[0m: name 'all_calls' is not defined"
     ]
    }
   ],
   "source": [
    "import plotly.graph_objects as go\n",
    " \n",
    "# Pivot the data to get a grid suitable for a surface plot\n",
    "pivot_table = all_calls.pivot(index='days_to_expiry', columns='strike', values='lastPrice')\n",
    " \n",
    "fig = go.Figure(data=[go.Surface(z=pivot_table.values, x=pivot_table.columns, y=pivot_table.index)])\n",
    "fig.update_layout(title='Plotly: Option Prices Surface Plot', scene=dict(\n",
    "                  xaxis_title='Strike Price',\n",
    "                  yaxis_title='Days to Expiry',\n",
    "                  zaxis_title='Option Price'))\n",
    "fig.show()"
   ]
  },
  {
   "cell_type": "code",
   "execution_count": null,
   "id": "df6ff740-9598-465e-ab09-3ae1723bd9f9",
   "metadata": {
    "pycharm": {
     "name": "#%%\n"
    }
   },
   "outputs": [],
   "source": []
  }
 ],
 "metadata": {
  "kernelspec": {
   "display_name": "Python 3 (ipykernel)",
   "language": "python",
   "name": "python3"
  },
  "language_info": {
   "codemirror_mode": {
    "name": "ipython",
    "version": 3
   },
   "file_extension": ".py",
   "mimetype": "text/x-python",
   "name": "python",
   "nbconvert_exporter": "python",
   "pygments_lexer": "ipython3",
   "version": "3.9.19"
  }
 },
 "nbformat": 4,
 "nbformat_minor": 5
}
